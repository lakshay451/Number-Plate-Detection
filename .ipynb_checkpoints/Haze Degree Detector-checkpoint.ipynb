{
 "cells": [
  {
   "cell_type": "code",
   "execution_count": 2,
   "id": "7ed716bd",
   "metadata": {},
   "outputs": [
    {
     "name": "stdout",
     "output_type": "stream",
     "text": [
      "WARNING:tensorflow:From C:\\Users\\Admin\\AppData\\Local\\Programs\\Python\\Python310\\lib\\site-packages\\keras\\src\\losses.py:2976: The name tf.losses.sparse_softmax_cross_entropy is deprecated. Please use tf.compat.v1.losses.sparse_softmax_cross_entropy instead.\n",
      "\n"
     ]
    }
   ],
   "source": [
    "import matplotlib.pyplot as plt\n",
    "import numpy as np\n",
    "import cv2\n",
    "import tensorflow as tf\n",
    "from sklearn.metrics import f1_score \n",
    "from tensorflow.keras import optimizers\n",
    "from tensorflow.keras.models import Sequential\n",
    "from tensorflow.keras.preprocessing.image import ImageDataGenerator\n",
    "from tensorflow.keras.layers import Dense, Flatten, MaxPooling2D, Dropout, Conv2D\n",
    "from PIL import Image\n",
    "import os\n",
    "import re\n",
    "import csv\n",
    "import cv2\n",
    "import math\n",
    "import numpy as np"
   ]
  },
  {
   "cell_type": "code",
   "execution_count": 5,
   "id": "8e145aba",
   "metadata": {},
   "outputs": [
    {
     "name": "stdout",
     "output_type": "stream",
     "text": [
      "Average blur value: 5159.081676035668\n"
     ]
    }
   ],
   "source": [
    "def variance_of_laplacian(image):\n",
    "    # Compute the Laplacian of the image and then return the focus\n",
    "    # measure, which is simply the variance of the Laplacian\n",
    "    return cv2.Laplacian(image, cv2.CV_64F).var()\n",
    "\n",
    "def detect_blur(image, threshold=100):\n",
    "    # Convert the image to grayscale\n",
    "    gray = cv2.cvtColor(image, cv2.COLOR_BGR2GRAY)\n",
    "    # Compute the variance of Laplacian\n",
    "    blur = variance_of_laplacian(gray)\n",
    "    # The image is considered blurry if the variance of Laplacian is below a threshold\n",
    "    return blur < threshold\n",
    "\n",
    "def calculate_average_blur(folder_path, threshold=100):\n",
    "    total_blur = 0\n",
    "    num_images = 0\n",
    "\n",
    "    # Iterate over all files in the folder\n",
    "    for filename in os.listdir(folder_path):\n",
    "        if filename.endswith(('.jpg', '.jpeg', '.png', '.bmp')):\n",
    "            # Load the image\n",
    "            image_path = os.path.join(folder_path, filename)\n",
    "            image = cv2.imread(image_path)\n",
    "\n",
    "            # Detect blur\n",
    "            is_blurry = detect_blur(image, threshold)\n",
    "\n",
    "            # If the image is not blurry, calculate blur value and add to total\n",
    "            if not is_blurry:\n",
    "                blur_value = variance_of_laplacian(cv2.cvtColor(image, cv2.COLOR_BGR2GRAY))\n",
    "                total_blur += blur_value\n",
    "                num_images += 1\n",
    "\n",
    "    # Calculate average blur value\n",
    "    if num_images > 0:\n",
    "        average_blur = total_blur / num_images\n",
    "        print(f\"Average blur value: {average_blur}\")\n",
    "    else:\n",
    "        print(\"No images found or all images are blurry.\")\n",
    "\n",
    "# Specify the folder containing images\n",
    "folder_path = \"hazy_image\"\n",
    "\n",
    "# Calculate average blur value for images in the folder\n",
    "calculate_average_blur(folder_path)\n"
   ]
  },
  {
   "cell_type": "code",
   "execution_count": null,
   "id": "980423ed",
   "metadata": {},
   "outputs": [],
   "source": []
  }
 ],
 "metadata": {
  "kernelspec": {
   "display_name": "Python 3 (ipykernel)",
   "language": "python",
   "name": "python3"
  },
  "language_info": {
   "codemirror_mode": {
    "name": "ipython",
    "version": 3
   },
   "file_extension": ".py",
   "mimetype": "text/x-python",
   "name": "python",
   "nbconvert_exporter": "python",
   "pygments_lexer": "ipython3",
   "version": "3.10.7"
  }
 },
 "nbformat": 4,
 "nbformat_minor": 5
}
